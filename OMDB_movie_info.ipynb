{
 "cells": [
  {
   "cell_type": "markdown",
   "metadata": {},
   "source": [
    "<h1>Getting Star Wars Data From OMDB"
   ]
  },
  {
   "cell_type": "markdown",
   "metadata": {},
   "source": [
    "<b>Import dependencies"
   ]
  },
  {
   "cell_type": "code",
   "execution_count": 1,
   "metadata": {
    "collapsed": true
   },
   "outputs": [],
   "source": [
    "import requests\n",
    "import json\n",
    "from pprint import pprint\n",
    "import pymongo\n",
    "from pymongo import MongoClient"
   ]
  },
  {
   "cell_type": "markdown",
   "metadata": {},
   "source": [
    "<b>OMDB API url"
   ]
  },
  {
   "cell_type": "code",
   "execution_count": 2,
   "metadata": {
    "collapsed": true
   },
   "outputs": [],
   "source": [
    "url = \"http://www.omdbapi.com/?i=\"\n",
    "api_key = \"&apikey=9fc25409\""
   ]
  },
  {
   "cell_type": "markdown",
   "metadata": {},
   "source": [
    "<b>OMDB movie ids for the first three Star Wars films"
   ]
  },
  {
   "cell_type": "code",
   "execution_count": 3,
   "metadata": {},
   "outputs": [],
   "source": [
    "movie_list = ['tt0076759','tt0080684','tt0086190']"
   ]
  },
  {
   "cell_type": "code",
   "execution_count": 4,
   "metadata": {},
   "outputs": [
    {
     "name": "stdout",
     "output_type": "stream",
     "text": [
      "http://www.omdbapi.com/?i=tt0076759&apikey=9fc25409\n"
     ]
    }
   ],
   "source": [
    "# confirm url is working\n",
    "response = requests.get(url + movie_list[0] + api_key)\n",
    "print(response.url)"
   ]
  },
  {
   "cell_type": "markdown",
   "metadata": {},
   "source": [
    "<b>List with OMDB movie information in dictionaries"
   ]
  },
  {
   "cell_type": "code",
   "execution_count": 5,
   "metadata": {},
   "outputs": [
    {
     "name": "stdout",
     "output_type": "stream",
     "text": [
      "[{'Actors': 'Mark Hamill, Harrison Ford, Carrie Fisher, Peter Cushing',\n",
      "  'Awards': 'Won 6 Oscars. Another 50 wins & 28 nominations.',\n",
      "  'BoxOffice': 'N/A',\n",
      "  'Country': 'USA',\n",
      "  'DVD': '21 Sep 2004',\n",
      "  'Director': 'George Lucas',\n",
      "  'Genre': 'Action, Adventure, Fantasy, Sci-Fi',\n",
      "  'Language': 'English',\n",
      "  'Metascore': '90',\n",
      "  'Plot': 'Luke Skywalker joins forces with a Jedi Knight, a cocky pilot, a '\n",
      "          \"Wookiee and two droids to save the galaxy from the Empire's \"\n",
      "          'world-destroying battle station, while also attempting to rescue '\n",
      "          'Princess Leia from the mysterious Darth Vader.',\n",
      "  'Poster': 'https://m.media-amazon.com/images/M/MV5BNzVlY2MwMjktM2E4OS00Y2Y3LWE3ZjctYzhkZGM3YzA1ZWM2XkEyXkFqcGdeQXVyNzkwMjQ5NzM@._V1_SX300.jpg',\n",
      "  'Production': '20th Century Fox',\n",
      "  'Rated': 'PG',\n",
      "  'Ratings': [{'Source': 'Internet Movie Database', 'Value': '8.6/10'},\n",
      "              {'Source': 'Rotten Tomatoes', 'Value': '93%'},\n",
      "              {'Source': 'Metacritic', 'Value': '90/100'}],\n",
      "  'Released': '25 May 1977',\n",
      "  'Response': 'True',\n",
      "  'Runtime': '121 min',\n",
      "  'Title': 'Star Wars: Episode IV - A New Hope',\n",
      "  'Type': 'movie',\n",
      "  'Website': 'http://www.starwars.com/episode-iv/',\n",
      "  'Writer': 'George Lucas',\n",
      "  'Year': '1977',\n",
      "  'imdbID': 'tt0076759',\n",
      "  'imdbRating': '8.6',\n",
      "  'imdbVotes': '1,133,583'},\n",
      " {'Actors': 'Mark Hamill, Harrison Ford, Carrie Fisher, Billy Dee Williams',\n",
      "  'Awards': 'Won 1 Oscar. Another 21 wins & 19 nominations.',\n",
      "  'BoxOffice': '$4,548,170',\n",
      "  'Country': 'USA',\n",
      "  'DVD': '21 Sep 2004',\n",
      "  'Director': 'Irvin Kershner',\n",
      "  'Genre': 'Action, Adventure, Fantasy, Sci-Fi',\n",
      "  'Language': 'English',\n",
      "  'Metascore': '82',\n",
      "  'Plot': 'After the Rebels are brutally overpowered by the Empire on the ice '\n",
      "          'planet Hoth, Luke Skywalker begins Jedi training with Yoda, while '\n",
      "          'his friends are pursued by Darth Vader.',\n",
      "  'Poster': 'https://m.media-amazon.com/images/M/MV5BYmU1NDRjNDgtMzhiMi00NjZmLTg5NGItZDNiZjU5NTU4OTE0XkEyXkFqcGdeQXVyNzkwMjQ5NzM@._V1_SX300.jpg',\n",
      "  'Production': 'Twentieth Century Fox',\n",
      "  'Rated': 'PG',\n",
      "  'Ratings': [{'Source': 'Internet Movie Database', 'Value': '8.7/10'},\n",
      "              {'Source': 'Rotten Tomatoes', 'Value': '95%'},\n",
      "              {'Source': 'Metacritic', 'Value': '82/100'}],\n",
      "  'Released': '20 Jun 1980',\n",
      "  'Response': 'True',\n",
      "  'Runtime': '124 min',\n",
      "  'Title': 'Star Wars: Episode V - The Empire Strikes Back',\n",
      "  'Type': 'movie',\n",
      "  'Website': 'http://www.starwars.com/episode-v/',\n",
      "  'Writer': 'Leigh Brackett (screenplay by), Lawrence Kasdan (screenplay by), '\n",
      "            'George Lucas (story by)',\n",
      "  'Year': '1980',\n",
      "  'imdbID': 'tt0080684',\n",
      "  'imdbRating': '8.7',\n",
      "  'imdbVotes': '1,065,458'},\n",
      " {'Actors': 'Mark Hamill, Harrison Ford, Carrie Fisher, Billy Dee Williams',\n",
      "  'Awards': 'Nominated for 4 Oscars. Another 20 wins & 16 nominations.',\n",
      "  'BoxOffice': 'N/A',\n",
      "  'Country': 'USA',\n",
      "  'DVD': '12 Sep 2006',\n",
      "  'Director': 'Richard Marquand',\n",
      "  'Genre': 'Action, Adventure, Fantasy, Sci-Fi',\n",
      "  'Language': 'English',\n",
      "  'Metascore': '58',\n",
      "  'Plot': 'After a daring mission to rescue Han Solo from Jabba the Hutt, the '\n",
      "          'Rebels dispatch to Endor to destroy the second Death Star. '\n",
      "          'Meanwhile, Luke struggles to help Darth Vader back from the dark '\n",
      "          \"side without falling into the Emperor's trap.\",\n",
      "  'Poster': 'https://m.media-amazon.com/images/M/MV5BOWZlMjFiYzgtMTUzNC00Y2IzLTk1NTMtZmNhMTczNTk0ODk1XkEyXkFqcGdeQXVyNTAyODkwOQ@@._V1_SX300.jpg',\n",
      "  'Production': 'Twentieth Century Fox',\n",
      "  'Rated': 'PG',\n",
      "  'Ratings': [{'Source': 'Internet Movie Database', 'Value': '8.3/10'},\n",
      "              {'Source': 'Rotten Tomatoes', 'Value': '81%'},\n",
      "              {'Source': 'Metacritic', 'Value': '58/100'}],\n",
      "  'Released': '25 May 1983',\n",
      "  'Response': 'True',\n",
      "  'Runtime': '131 min',\n",
      "  'Title': 'Star Wars: Episode VI - Return of the Jedi',\n",
      "  'Type': 'movie',\n",
      "  'Website': 'http://www.starwars.com/episode-vi/',\n",
      "  'Writer': 'Lawrence Kasdan (screenplay by), George Lucas (screenplay by), '\n",
      "            'George Lucas (story by)',\n",
      "  'Year': '1983',\n",
      "  'imdbID': 'tt0086190',\n",
      "  'imdbRating': '8.3',\n",
      "  'imdbVotes': '872,290'}]\n"
     ]
    }
   ],
   "source": [
    "sw_data = []\n",
    "\n",
    "for movie in movie_list:\n",
    "    omdb_url = requests.get(url + movie + api_key)\n",
    "    data = omdb_url.json()\n",
    "    sw_data.append(data)\n",
    "\n",
    "pprint(sw_data)"
   ]
  },
  {
   "cell_type": "markdown",
   "metadata": {},
   "source": [
    "<h2>Connection to Mongodb"
   ]
  },
  {
   "cell_type": "code",
   "execution_count": 6,
   "metadata": {
    "collapsed": true
   },
   "outputs": [],
   "source": [
    "client = MongoClient('mongodb://localhost:27017/')"
   ]
  },
  {
   "cell_type": "code",
   "execution_count": 7,
   "metadata": {},
   "outputs": [
    {
     "data": {
      "text/plain": [
       "MongoClient(host=['localhost:27017'], document_class=dict, tz_aware=False, connect=True)"
      ]
     },
     "execution_count": 7,
     "metadata": {},
     "output_type": "execute_result"
    }
   ],
   "source": [
    "client"
   ]
  },
  {
   "cell_type": "code",
   "execution_count": 8,
   "metadata": {},
   "outputs": [],
   "source": [
    "db = client.star_wars\n",
    "collection = db.omdb_info"
   ]
  },
  {
   "cell_type": "code",
   "execution_count": 9,
   "metadata": {},
   "outputs": [
    {
     "data": {
      "text/plain": [
       "['omdb_info']"
      ]
     },
     "execution_count": 9,
     "metadata": {},
     "output_type": "execute_result"
    }
   ],
   "source": [
    "db.list_collection_names()"
   ]
  },
  {
   "cell_type": "code",
   "execution_count": 10,
   "metadata": {},
   "outputs": [],
   "source": [
    "result = collection.insert_many(sw_data)"
   ]
  },
  {
   "cell_type": "code",
   "execution_count": null,
   "metadata": {},
   "outputs": [],
   "source": []
  }
 ],
 "metadata": {
  "kernelspec": {
   "display_name": "Python 3",
   "language": "python",
   "name": "python3"
  },
  "language_info": {
   "codemirror_mode": {
    "name": "ipython",
    "version": 3
   },
   "file_extension": ".py",
   "mimetype": "text/x-python",
   "name": "python",
   "nbconvert_exporter": "python",
   "pygments_lexer": "ipython3",
   "version": "3.7.3"
  },
  "varInspector": {
   "cols": {
    "lenName": 16,
    "lenType": 16,
    "lenVar": 40
   },
   "kernels_config": {
    "python": {
     "delete_cmd_postfix": "",
     "delete_cmd_prefix": "del ",
     "library": "var_list.py",
     "varRefreshCmd": "print(var_dic_list())"
    },
    "r": {
     "delete_cmd_postfix": ") ",
     "delete_cmd_prefix": "rm(",
     "library": "var_list.r",
     "varRefreshCmd": "cat(var_dic_list()) "
    }
   },
   "types_to_exclude": [
    "module",
    "function",
    "builtin_function_or_method",
    "instance",
    "_Feature"
   ],
   "window_display": false
  }
 },
 "nbformat": 4,
 "nbformat_minor": 2
}
