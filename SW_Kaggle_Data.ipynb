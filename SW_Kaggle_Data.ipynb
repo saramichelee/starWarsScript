{
 "cells": [
  {
   "cell_type": "code",
   "execution_count": null,
   "metadata": {},
   "outputs": [],
   "source": [
    "import pandas as pd\n",
    "import csv  "
   ]
  },
  {
   "cell_type": "code",
   "execution_count": null,
   "metadata": {},
   "outputs": [],
   "source": [
    "epiIV = pd.read_csv(\"SW_EpisodeIV.txt\", escapechar='\\\\', skiprows=0, delimiter=\" \", header=0, \\\n",
    "                names=['Key', 'Character', 'Dialog'], )\n",
    "epiIV_df = pd.DataFrame(epiIV)\n",
    "movie = \"Episode IV\"\n",
    "epiIV_df['Movie'] = movie \n",
    "epiIV_df.head()\n",
    "ordered_epiIV = epiIV_df[['Movie', 'Key', 'Character', 'Dialog']]\n",
    "ordered_epiIV.head()"
   ]
  },
  {
   "cell_type": "code",
   "execution_count": null,
   "metadata": {},
   "outputs": [],
   "source": [
    "epiV = pd.read_csv(\"SW_EpisodeV.txt\", escapechar='\\\\', skiprows=0, delimiter=\" \", header=0, \\\n",
    "                names=['Key', 'Character', 'Dialog'], )\n",
    "epiV_df = pd.DataFrame(epiV)\n",
    "movie = \"Episode V\"\n",
    "epiV_df['Movie'] = movie \n",
    "ordered_epiV = epiV_df[['Movie', 'Key', 'Character', 'Dialog']]\n",
    "ordered_epiV.head()"
   ]
  },
  {
   "cell_type": "code",
   "execution_count": null,
   "metadata": {},
   "outputs": [],
   "source": [
    "epiVI = pd.read_csv(\"SW_EpisodeVI.txt\", escapechar='\\\\', skiprows=0, delimiter=\" \", header=0, \\\n",
    "                names=['Key', 'Character', 'Dialog'], )\n",
    "epiVI_df = pd.DataFrame(epiV)\n",
    "movie = \"Episode VI\"\n",
    "epiVI_df['Movie'] = movie \n",
    "ordered_epiVI = epiVI_df[['Movie', 'Key', 'Character', 'Dialog']]\n",
    "ordered_epiVI.head()"
   ]
  },
  {
   "cell_type": "code",
   "execution_count": null,
   "metadata": {},
   "outputs": [],
   "source": [
    "frames = [ordered_epiIV, ordered_epiV, ordered_epiVI]\n",
    "combined_movies = pd.concat(frames)\n",
    "combined_movies"
   ]
  },
  {
   "cell_type": "code",
   "execution_count": null,
   "metadata": {},
   "outputs": [],
   "source": [
    "combined_movies.to_dict('records')"
   ]
  },
  {
   "cell_type": "code",
   "execution_count": null,
   "metadata": {},
   "outputs": [],
   "source": []
  }
 ],
 "metadata": {
  "kernelspec": {
   "display_name": "Python 3",
   "language": "python",
   "name": "python3"
  },
  "language_info": {
   "codemirror_mode": {
    "name": "ipython",
    "version": 3
   },
   "file_extension": ".py",
   "mimetype": "text/x-python",
   "name": "python",
   "nbconvert_exporter": "python",
   "pygments_lexer": "ipython3",
   "version": "3.7.3"
  }
 },
 "nbformat": 4,
 "nbformat_minor": 2
}
